{
 "cells": [
  {
   "cell_type": "code",
   "execution_count": 11,
   "id": "80ddaf72",
   "metadata": {},
   "outputs": [],
   "source": [
    "import cv2\n",
    "import numpy as np\n",
    "from scipy.signal import convolve2d"
   ]
  },
  {
   "cell_type": "code",
   "execution_count": 2,
   "id": "5abee1cf",
   "metadata": {},
   "outputs": [],
   "source": [
    "image=np.array([[120, 125, 115],\n",
    "                 [128, 133, 122],\n",
    "                 [112, 118, 126]])"
   ]
  },
  {
   "cell_type": "code",
   "execution_count": 3,
   "id": "bb01afa2",
   "metadata": {},
   "outputs": [
    {
     "name": "stdout",
     "output_type": "stream",
     "text": [
      "Image:\n",
      "[[120 125 115]\n",
      " [128 133 122]\n",
      " [112 118 126]]\n"
     ]
    }
   ],
   "source": [
    "print(\"Image:\")\n",
    "print(image)"
   ]
  },
  {
   "cell_type": "code",
   "execution_count": 5,
   "id": "ce9472c1",
   "metadata": {},
   "outputs": [],
   "source": [
    "sobel_x=np.array([[-1, 0, 1],\n",
    "                  [-2, 0, 2],\n",
    "                [-1, 0, 1]])"
   ]
  },
  {
   "cell_type": "code",
   "execution_count": 8,
   "id": "85c2e6eb",
   "metadata": {},
   "outputs": [
    {
     "name": "stdout",
     "output_type": "stream",
     "text": [
      "sobel_x\n"
     ]
    },
    {
     "data": {
      "text/plain": [
       "array([[-1,  0,  1],\n",
       "       [-2,  0,  2],\n",
       "       [-1,  0,  1]])"
      ]
     },
     "execution_count": 8,
     "metadata": {},
     "output_type": "execute_result"
    }
   ],
   "source": [
    "print(\"sobel_x\")\n",
    "sobel_x"
   ]
  },
  {
   "cell_type": "code",
   "execution_count": 7,
   "id": "cc56c881",
   "metadata": {},
   "outputs": [],
   "source": [
    "sobel_y=np.array([[-1, -2, -1],\n",
    "                 [0, 0, 0],\n",
    "                 [1, 2, 1]])"
   ]
  },
  {
   "cell_type": "code",
   "execution_count": 9,
   "id": "005e4b69",
   "metadata": {},
   "outputs": [
    {
     "name": "stdout",
     "output_type": "stream",
     "text": [
      "sobel_y\n"
     ]
    },
    {
     "data": {
      "text/plain": [
       "array([[-1, -2, -1],\n",
       "       [ 0,  0,  0],\n",
       "       [ 1,  2,  1]])"
      ]
     },
     "execution_count": 9,
     "metadata": {},
     "output_type": "execute_result"
    }
   ],
   "source": [
    "print(\"sobel_y\")\n",
    "sobel_y"
   ]
  },
  {
   "cell_type": "code",
   "execution_count": 13,
   "id": "f9f3e1ec",
   "metadata": {},
   "outputs": [],
   "source": [
    "gradient_x = convolve2d(image, sobel_x, mode='same', boundary='wrap')\n",
    "gradient_y = convolve2d(image, sobel_y, mode='same', boundary='wrap')"
   ]
  },
  {
   "cell_type": "code",
   "execution_count": 15,
   "id": "7bb49b30",
   "metadata": {},
   "outputs": [
    {
     "name": "stdout",
     "output_type": "stream",
     "text": [
      "gradient_x\n"
     ]
    },
    {
     "data": {
      "text/plain": [
       "array([[-23,   2,  21],\n",
       "       [-24,   3,  21],\n",
       "       [ -5, -17,  22]])"
      ]
     },
     "execution_count": 15,
     "metadata": {},
     "output_type": "execute_result"
    }
   ],
   "source": [
    "print(\"gradient_x\")\n",
    "gradient_x"
   ]
  },
  {
   "cell_type": "code",
   "execution_count": 16,
   "id": "506f4fe8",
   "metadata": {},
   "outputs": [
    {
     "name": "stdout",
     "output_type": "stream",
     "text": [
      "gradient_y\n"
     ]
    },
    {
     "data": {
      "text/plain": [
       "array([[-43, -42, -23],\n",
       "       [ 12,  11,  -7],\n",
       "       [ 31,  31,  30]])"
      ]
     },
     "execution_count": 16,
     "metadata": {},
     "output_type": "execute_result"
    }
   ],
   "source": [
    "print(\"gradient_y\")\n",
    "gradient_y"
   ]
  },
  {
   "cell_type": "code",
   "execution_count": 17,
   "id": "1b886359",
   "metadata": {},
   "outputs": [],
   "source": [
    "gradient_magnitude = np.sqrt(gradient_x**2 + gradient_y**2)"
   ]
  },
  {
   "cell_type": "code",
   "execution_count": 19,
   "id": "ba872591",
   "metadata": {},
   "outputs": [
    {
     "name": "stdout",
     "output_type": "stream",
     "text": [
      "Gradient Magnitude\n"
     ]
    },
    {
     "data": {
      "text/plain": [
       "array([[48.76474136, 42.04759208, 31.144823  ],\n",
       "       [26.83281573, 11.40175425, 22.13594362],\n",
       "       [31.40063694, 35.35533906, 37.20215048]])"
      ]
     },
     "execution_count": 19,
     "metadata": {},
     "output_type": "execute_result"
    }
   ],
   "source": [
    "print(\"Gradient Magnitude\")\n",
    "gradient_magnitude"
   ]
  },
  {
   "cell_type": "code",
   "execution_count": null,
   "id": "6515f06d",
   "metadata": {},
   "outputs": [],
   "source": []
  }
 ],
 "metadata": {
  "kernelspec": {
   "display_name": "Python 3 (ipykernel)",
   "language": "python",
   "name": "python3"
  },
  "language_info": {
   "codemirror_mode": {
    "name": "ipython",
    "version": 3
   },
   "file_extension": ".py",
   "mimetype": "text/x-python",
   "name": "python",
   "nbconvert_exporter": "python",
   "pygments_lexer": "ipython3",
   "version": "3.11.3"
  }
 },
 "nbformat": 4,
 "nbformat_minor": 5
}
